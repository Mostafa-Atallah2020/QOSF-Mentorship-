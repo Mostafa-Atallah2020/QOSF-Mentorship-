{
 "cells": [
  {
   "cell_type": "markdown",
   "metadata": {},
   "source": [
    "# Task 3: Quantum Circuit Simulator"
   ]
  },
  {
   "cell_type": "markdown",
   "metadata": {},
   "source": [
    "We implement a simple quantum gate simulator for single-qubit and single control gates using python from scratch. The big Indian convention is being used. Then we use the simulator to implementing some simple quantum circuits and finding the optimal parameters of a variational quantum circuit."
   ]
  },
  {
   "cell_type": "code",
   "execution_count": 1,
   "metadata": {},
   "outputs": [],
   "source": [
    "import numpy as np\n",
    "import itertools, random\n",
    "from cmath import exp\n",
    "from scipy.optimize import minimize"
   ]
  },
  {
   "cell_type": "code",
   "execution_count": 2,
   "metadata": {},
   "outputs": [],
   "source": [
    "## Defining the single qubit gates\n",
    "# identity gate\n",
    "i = [[1,0],\n",
    "     [0,1]]\n",
    "# Pauli-X gate\n",
    "x = [[0,1],\n",
    "     [1,0]]\n",
    "# Pauli-Y gate\n",
    "y = [[0,-1j],\n",
    "      [1j,0]]\n",
    "# Pauli-Z gate\n",
    "z = [[1,0],\n",
    "     [0,-1]]\n",
    "# Hadamard Gate\n",
    "h = [[1/np.sqrt(2),1/np.sqrt(2)],\n",
    "     [1/np.sqrt(2),-1/np.sqrt(2)]]\n",
    "# s gate\n",
    "s = [[1,0],\n",
    "     [0,1j]]\n",
    "# s dagger gate\n",
    "sdag = [[1,0],\n",
    "        [0,-1j]]\n",
    "# T gate\n",
    "t = [[1,0],\n",
    "     [0,exp(1j*np.pi/4)]]\n",
    "# T dagger gate\n",
    "tdag = [[1,0],\n",
    "        [0,-exp(1j*np.pi/4)]]\n",
    "\n",
    "single_gates = {'i':i, 'x':x, 'y':y, 'z':z, 'h':h, \n",
    "               's':s, 'sdag':sdag, 't':t, 'tdag':tdag}"
   ]
  },
  {
   "cell_type": "code",
   "execution_count": 3,
   "metadata": {},
   "outputs": [],
   "source": [
    "# u3 gate is the most general parametric single qubit gate\n",
    "def u3(theta1,theta2,theta3):\n",
    "    a11 = np.cos(theta1/2)\n",
    "    a12 = -exp(1j*theta3)*np.sin(theta1/2)\n",
    "    a21 = exp(1j*theta2)*np.sin(theta1/2)\n",
    "    a22 = exp(1j*(theta2+theta3))*np.cos(theta1/2)\n",
    "    val = [[a11,a12],\n",
    "           [a21,a22]]\n",
    "    return val"
   ]
  },
  {
   "cell_type": "code",
   "execution_count": 4,
   "metadata": {},
   "outputs": [],
   "source": [
    "## Defining some useful tools\n",
    "\n",
    "def qubit_num(circ):\n",
    "    # it calculates how many qubits in a quantum circuit\n",
    "    # returns the number of qubits in the quantum circuit\n",
    "    # if you want to add some empty qubits in your circuit,  \n",
    "    # -apply an identity gate to that qubit\n",
    "    a = list()\n",
    "    for i in range(len(circ)):\n",
    "        a.append(max(circ[i][\"target\"]))\n",
    "    n = max(a)+1\n",
    "    return n\n",
    "\n",
    "def convert_tup(tup):\n",
    "    # converts a tuble of numbers into a joined string\n",
    "    str =  ''.join(tup) \n",
    "    return str\n",
    "\n",
    "def bin_permuts(bits_num):\n",
    "    # returns the various combintions of an n bit string\n",
    "    lst = list(itertools.product(['0', '1'], repeat=bits_num))\n",
    "    bin_lst = list()\n",
    "    for i in range(len(lst)):\n",
    "        bin_lst.append(convert_tup(lst[i]))\n",
    "    return bin_lst\n",
    "\n",
    "def remove_c(s):\n",
    "    # removes the letter \"c\" from a given string\n",
    "    return s.replace('c', '')"
   ]
  },
  {
   "cell_type": "code",
   "execution_count": 5,
   "metadata": {},
   "outputs": [],
   "source": [
    "## defining main functions of the simulator\n",
    "\n",
    "def get_ground_state(num_qubits):\n",
    "    # return vector of size 2**num_qubits with all zeroes except first element which is 1\n",
    "    vec = np.zeros(2**num_qubits)\n",
    "    vec[0] = 1\n",
    "    return vec\n",
    "\n",
    "def get_single_gate_operator(total_qubits, gate_unitary, target_qubits):\n",
    "    # return unitary operator of size 2**n x 2**n for single qubit gates\n",
    "    l = list()\n",
    "    for qubit in range(total_qubits):\n",
    "        # apply identity gates for all the qubits\n",
    "        l.append([[1,0],[0,1]])\n",
    "    \n",
    "    # replace target qubits with required unitaries\n",
    "    l[target_qubits[0]] = single_gates[gate_unitary]\n",
    "\n",
    "    # tensor product for all qubit unitaries\n",
    "    o = l[0]\n",
    "    for qubit in range(1,total_qubits):\n",
    "        o = np.kron(o,l[qubit])\n",
    "    return o\n",
    "\n",
    "def get_double_gate_operator(total_qubits, gate_unitary, target_qubits):\n",
    "    ## return unitary operator of size 2**n x 2**n for single-qubit controlled gates\n",
    "    # removing the first letter for a controlled operation to make use of the\n",
    "    # - already implemented single qubit gates\n",
    "    unitary = remove_c(gate_unitary)\n",
    "\n",
    "    P0x0 = [[1, 0],\n",
    "            [0, 0]]\n",
    "\n",
    "    P1x1 = [[0, 0],\n",
    "            [0, 1]]\n",
    "\n",
    "    lst0 = list()\n",
    "    lst1 = list()\n",
    "    \n",
    "    for qubit in range(total_qubits):\n",
    "        lst0.append([[1,0],[0,1]])\n",
    "        lst1.append([[1,0],[0,1]])\n",
    "        \n",
    "    lst0[target_qubits[0]] = P0x0\n",
    "    lst1[target_qubits[0]] = P1x1\n",
    "\n",
    "    #lst0[target_qubits[1]] = [[1,0],[0,1]]\n",
    "    lst1[target_qubits[1]] = single_gates[unitary]\n",
    "\n",
    "    o1 = lst0[0]\n",
    "    for qubit in range(1,total_qubits):\n",
    "        o1 = np.kron(o1,lst0[qubit])\n",
    "        \n",
    "    o2 = lst1[0]\n",
    "    for qubit in range(1,total_qubits):\n",
    "        o2 = np.kron(o2,lst1[qubit])\n",
    "        \n",
    "    o = np.array(o1) + np.array(o2)\n",
    "    return o\n",
    "\n",
    "def get_parametric_operator(total_qubits, gate_unitary, target_qubits):\n",
    "    # return a single-qubit parametric gate\n",
    "    l = list()\n",
    "    for qubit in range(total_qubits):\n",
    "        l.append([[1,0],[0,1]])\n",
    "\n",
    "    l[target_qubits[0]] = gate_unitary\n",
    "\n",
    "    o = l[0]\n",
    "    for qubit in range(1,total_qubits):\n",
    "        o = np.kron(o,l[qubit])\n",
    "    return o\n",
    "\n",
    "def get_operator(total_qubits, gate_unitary, target_qubits):\n",
    "    # return unitary operator of size 2**n x 2**n for given gate and target qubits\n",
    "    if len(target_qubits)==1:\n",
    "        o = get_single_gate_operator(total_qubits, gate_unitary, target_qubits)\n",
    "    elif len(target_qubits)==2:\n",
    "        o = get_double_gate_operator(total_qubits, gate_unitary, target_qubits)\n",
    "    else:\n",
    "        # the simulator is defined for only single and double qubit gates.\n",
    "        # the following lines return identity gate for multi-qubit operations\n",
    "        o = [[1,0],[0,1]]\n",
    "        for qubit in range(1,total_qubits):\n",
    "            o = np.kron(o,o)\n",
    "    return o\n",
    "\n",
    "def run_program(initial_state, program):\n",
    "    # read program, and for each gate:\n",
    "    # - calculate matrix operator\n",
    "    # - multiply state with operator\n",
    "    # return final state\n",
    "    psi = initial_state\n",
    "    for i in range(len(program)):\n",
    "        gate = program[i]['gate']\n",
    "        target = program[i]['target']\n",
    "        \n",
    "        if gate == 'u3':\n",
    "            theta1 = program[i]['params']['theta']\n",
    "            theta2 = program[i]['params']['phi']\n",
    "            theta3 = program[i]['params']['lambda']\n",
    "            unitary = u3(theta1, theta2, theta3)\n",
    "            o = get_parametric_operator(n, unitary, target)\n",
    "        else:\n",
    "            o = get_operator(n, gate, target)\n",
    "        psi = np.dot(psi, o)\n",
    "\n",
    "    final_state = psi\n",
    "    return final_state\n",
    "\n",
    "def measure_all(state_vector):\n",
    "    # choose element from state_vector using weighted random and return it's index\n",
    "    states = bin_permuts(n)\n",
    "    weights = [abs(i)**2 for i in state_vector]\n",
    "    index = random.choices(states, weights)\n",
    "    return index[0]\n",
    "\n",
    "def get_counts(state_vector, num_shots):\n",
    "    # returns the experimental possible outcomes of the quantum circuit\n",
    "    states = list()\n",
    "    for i in range(num_shots):\n",
    "        states.append(measure_all(state_vector))\n",
    "\n",
    "    counts = dict()\n",
    "    for state in states:\n",
    "        if state not in counts:\n",
    "            counts[state] = 1\n",
    "        else:\n",
    "            counts[state] = counts[state] + 1\n",
    "    return counts"
   ]
  },
  {
   "cell_type": "markdown",
   "metadata": {},
   "source": [
    "## Quantum Circuit Testcases"
   ]
  },
  {
   "cell_type": "markdown",
   "metadata": {},
   "source": [
    "We test our quantum simulator with generic quantum circuits."
   ]
  },
  {
   "cell_type": "markdown",
   "metadata": {},
   "source": [
    "### 1: Bell state Quantum circuit"
   ]
  },
  {
   "cell_type": "code",
   "execution_count": 6,
   "metadata": {},
   "outputs": [
    {
     "data": {
      "text/plain": [
       "{'11': 4964, '00': 5036}"
      ]
     },
     "execution_count": 6,
     "metadata": {},
     "output_type": "execute_result"
    }
   ],
   "source": [
    "program = [\n",
    "{ \"gate\": \"h\", \"target\": [0] },\n",
    "{ \"gate\": \"cx\", \"target\": [0,1] }\n",
    "]\n",
    "\n",
    "n = qubit_num(program)\n",
    "\n",
    "initial_state = get_ground_state(n)\n",
    "\n",
    "final_state = run_program(initial_state, program)\n",
    "\n",
    "num_shots = 10000\n",
    "\n",
    "get_counts(final_state, num_shots)"
   ]
  },
  {
   "cell_type": "markdown",
   "metadata": {},
   "source": [
    "### 2: GHZ state (8 qubits)"
   ]
  },
  {
   "cell_type": "code",
   "execution_count": 7,
   "metadata": {},
   "outputs": [
    {
     "data": {
      "text/plain": [
       "{'11111111': 5015, '00000000': 4985}"
      ]
     },
     "execution_count": 7,
     "metadata": {},
     "output_type": "execute_result"
    }
   ],
   "source": [
    "program = [\n",
    "{ \"gate\": \"h\", \"target\": [0] },\n",
    "{ \"gate\": \"cx\", \"target\": [0,1]},\n",
    "{ \"gate\": \"cx\", \"target\": [1,2]},\n",
    "{ \"gate\": \"cx\", \"target\": [2,3]},\n",
    "{ \"gate\": \"cx\", \"target\": [3,4]},\n",
    "{ \"gate\": \"cx\", \"target\": [4,5]},\n",
    "{ \"gate\": \"cx\", \"target\": [5,6]},\n",
    "{ \"gate\": \"cx\", \"target\": [6,7]}\n",
    " ]\n",
    "n = qubit_num(program)\n",
    "\n",
    "initial_state = get_ground_state(n)\n",
    "\n",
    "final_state = run_program(initial_state, program)\n",
    "\n",
    "num_shots = 10000\n",
    "\n",
    "get_counts(final_state, num_shots)"
   ]
  },
  {
   "cell_type": "markdown",
   "metadata": {},
   "source": [
    "### 3: SWAP gate"
   ]
  },
  {
   "cell_type": "code",
   "execution_count": 8,
   "metadata": {},
   "outputs": [
    {
     "data": {
      "text/plain": [
       "{'10': 10000}"
      ]
     },
     "execution_count": 8,
     "metadata": {},
     "output_type": "execute_result"
    }
   ],
   "source": [
    "program = [\n",
    "{ \"gate\": \"cx\", \"target\": [0,1]},\n",
    "{ \"gate\": \"cx\", \"target\": [1,0]},\n",
    "{ \"gate\": \"cx\", \"target\": [0,1]},\n",
    "]\n",
    "n = qubit_num(program)\n",
    "\n",
    "# initializing the circuit to be in |01> \n",
    "# by applying swap gate we expect to get the |10> state\n",
    "initial_state = [0,1,0,0]\n",
    "\n",
    "final_state = run_program(initial_state, program)\n",
    "\n",
    "num_shots = 10000\n",
    "\n",
    "get_counts(final_state, num_shots)"
   ]
  },
  {
   "cell_type": "markdown",
   "metadata": {},
   "source": [
    "### 4: 2-qubit Grover's Algorithm "
   ]
  },
  {
   "cell_type": "markdown",
   "metadata": {},
   "source": [
    "We implement Grover's Algorithm for the case of two qubits and for marking element $|s\\rangle = |11\\rangle$."
   ]
  },
  {
   "cell_type": "code",
   "execution_count": 9,
   "metadata": {},
   "outputs": [
    {
     "data": {
      "text/plain": [
       "{'11': 10000}"
      ]
     },
     "execution_count": 9,
     "metadata": {},
     "output_type": "execute_result"
    }
   ],
   "source": [
    "program = [\n",
    "# initialization \n",
    "{ \"gate\": \"h\", \"target\": [0] },\n",
    "{ \"gate\": \"h\", \"target\": [1] },\n",
    "# oracle \n",
    "{ \"gate\": \"cz\", \"target\": [0,1]},\n",
    "# diffuser\n",
    "{ \"gate\": \"h\", \"target\": [0] },\n",
    "{ \"gate\": \"h\", \"target\": [1] },\n",
    "{ \"gate\": \"z\", \"target\": [0] },\n",
    "{ \"gate\": \"z\", \"target\": [1] },\n",
    "{ \"gate\": \"cz\", \"target\": [0,1]},\n",
    "{ \"gate\": \"h\", \"target\": [0] },\n",
    "{ \"gate\": \"h\", \"target\": [1] },\n",
    "]\n",
    "\n",
    "n = qubit_num(program)\n",
    "\n",
    "initial_state = get_ground_state(n)\n",
    "\n",
    "final_state = run_program(initial_state, program)\n",
    "\n",
    "num_shots = 10000\n",
    "\n",
    "get_counts(final_state, num_shots)"
   ]
  },
  {
   "cell_type": "markdown",
   "metadata": {},
   "source": [
    "### 5: $R_x$ and $R_y$ gates"
   ]
  },
  {
   "cell_type": "code",
   "execution_count": 10,
   "metadata": {},
   "outputs": [
    {
     "data": {
      "text/plain": [
       "{'10': 2480, '00': 2497, '11': 2495, '01': 2528}"
      ]
     },
     "execution_count": 10,
     "metadata": {},
     "output_type": "execute_result"
    }
   ],
   "source": [
    "program = [\n",
    "# rotation abount the x-axis by a pi/2 angle \n",
    "{ \"gate\": \"u3\", \"params\": { \"theta\": np.pi/2, \"phi\": -np.pi/2, \"lambda\": np.pi/2 },\n",
    " \"target\": [0] },\n",
    "# rotation abount the y-axis by a pi/2 angle \n",
    "{ \"gate\": \"u3\", \"params\": { \"theta\": np.pi/2, \"phi\": 0, \"lambda\": 0 },\n",
    " \"target\": [1] },\n",
    "]\n",
    "\n",
    "n = qubit_num(program)\n",
    "\n",
    "initial_state = get_ground_state(n)\n",
    "\n",
    "final_state = run_program(initial_state, program)\n",
    "\n",
    "num_shots = 10000\n",
    "\n",
    "get_counts(final_state, num_shots)"
   ]
  },
  {
   "cell_type": "markdown",
   "metadata": {},
   "source": [
    "## Variational Quantum Algorithms"
   ]
  },
  {
   "cell_type": "markdown",
   "metadata": {},
   "source": [
    "we will use the last simulator to find the paramaters that give the minimum cost for the circuit:"
   ]
  },
  {
   "cell_type": "markdown",
   "metadata": {},
   "source": [
    "<img src=\"circ.jpg\">"
   ]
  },
  {
   "cell_type": "markdown",
   "metadata": {},
   "source": [
    "where the $U$ operation is given by"
   ]
  },
  {
   "cell_type": "markdown",
   "metadata": {},
   "source": [
    "$$\n",
    "U(\\theta, \\phi) = \n",
    "\\begin{pmatrix}\n",
    "\\cos \\left (\\frac{\\theta}{2}\\right) & \\sin \\left (\\frac{\\theta}{2}\\right) \\\\ \n",
    "e^{\\imath \\phi} \\cos \\left (\\frac{\\theta}{2}\\right) & e^{\\imath (\\phi - \\pi)} \\cos \\left (\\frac{\\theta}{2}\\right)\n",
    "\\end{pmatrix}\n",
    "$$"
   ]
  },
  {
   "cell_type": "markdown",
   "metadata": {},
   "source": [
    "which is a special case of $U_3(\\theta, \\phi, \\lambda)$ gate with $\\lambda = \\pi$. "
   ]
  },
  {
   "cell_type": "markdown",
   "metadata": {},
   "source": [
    "The expected value of an operator $\\hat{A}$ with eigen value $a_j$"
   ]
  },
  {
   "cell_type": "markdown",
   "metadata": {},
   "source": [
    "$$\n",
    "\\langle \\hat{A}\\rangle = \\sum_j a_j |\\langle \\psi|\\phi_j \\rangle|^2\n",
    "$$"
   ]
  },
  {
   "cell_type": "markdown",
   "metadata": {},
   "source": [
    "We measure only in the z-basis, and for one qubit system, we have"
   ]
  },
  {
   "cell_type": "markdown",
   "metadata": {},
   "source": [
    "$$\n",
    " \\hat{A} = Z = \n",
    "\\begin{pmatrix}\n",
    "1 & 0 \\\\\n",
    "0 & -1\n",
    "\\end{pmatrix}\n",
    "$$"
   ]
  },
  {
   "cell_type": "markdown",
   "metadata": {},
   "source": [
    "$$\n",
    "a_j = \\{ 1, -1 \\}\n",
    "$$"
   ]
  },
  {
   "cell_type": "markdown",
   "metadata": {},
   "source": [
    "$$\n",
    "| \\phi_j \\rangle = \\{ | 0 \\rangle, | 1 \\rangle \\}\n",
    "$$ "
   ]
  },
  {
   "cell_type": "markdown",
   "metadata": {},
   "source": [
    "The cost function is defined as:"
   ]
  },
  {
   "cell_type": "markdown",
   "metadata": {},
   "source": [
    "$$\n",
    "f = \\langle Z \\rangle = |\\langle \\psi|0 \\rangle|^2 - |\\langle \\psi|0 \\rangle|^2 = P_0 - P_1\n",
    "$$"
   ]
  },
  {
   "cell_type": "markdown",
   "metadata": {},
   "source": [
    "where $P_0$ is the probability for measuring state $|0\\rangle$ and where $P_1$ is the probability for measuring state $|1\\rangle$."
   ]
  },
  {
   "cell_type": "code",
   "execution_count": 11,
   "metadata": {},
   "outputs": [],
   "source": [
    "def run_variational_circuit(initial_state, program, params):\n",
    "    # anther form of the run_program function which takes 3 inputs this time.\n",
    "    psi = initial_state\n",
    "    for i in range(len(program)):\n",
    "        gate = program[i]['gate']\n",
    "        target = program[i]['target']\n",
    "        \n",
    "        if gate == 'u3':\n",
    "            theta1 = params[program[i]['params']['theta']]\n",
    "            theta2 = params[program[i]['params']['phi']]\n",
    "            theta3 = params[program[i]['params']['lambda']]\n",
    "            unitary = u3(theta1, theta2, theta3)\n",
    "            o = get_parametric_operator(n, unitary, target)\n",
    "        else:\n",
    "            o = get_operator(n, gate, target)\n",
    "        psi = np.dot(psi, o)\n",
    "\n",
    "    final_state = psi\n",
    "    return final_state\n",
    "\n",
    "def objective_function(init_params):\n",
    "    angles = { \"global_1\": init_params[0], \"global_2\": init_params[1], 'global_3': -3.1415 }\n",
    "\n",
    "    final_state = run_variational_circuit(initial_state, program, angles)\n",
    "\n",
    "    num_shots = 1000\n",
    "\n",
    "    counts = get_counts(final_state, num_shots)\n",
    "\n",
    "    P0 = 0\n",
    "    P1 = 0\n",
    "\n",
    "    if '0' in counts:\n",
    "        P0 = counts['0']/num_shots\n",
    "    if '1' in counts:\n",
    "        P1 = counts['1']/num_shots\n",
    "\n",
    "    cost = P0 - P1\n",
    "    return cost"
   ]
  },
  {
   "cell_type": "code",
   "execution_count": 12,
   "metadata": {},
   "outputs": [
    {
     "data": {
      "text/plain": [
       "   direc: array([[1., 0.],\n",
       "       [0., 1.]])\n",
       "     fun: array(-1.)\n",
       " message: 'Optimization terminated successfully.'\n",
       "    nfev: 47\n",
       "     nit: 1\n",
       "  status: 0\n",
       " success: True\n",
       "       x: array([3.14148255, 4.1883809 ])"
      ]
     },
     "execution_count": 12,
     "metadata": {},
     "output_type": "execute_result"
    }
   ],
   "source": [
    "program = [{ \"gate\": \"u3\", \"params\": { \"theta\": \"global_1\", \"phi\": \"global_2\",'lambda': 'global_3'}, \"target\": [0] }]\n",
    "\n",
    "n = qubit_num(program)\n",
    "\n",
    "initial_state = get_ground_state(n)\n",
    "\n",
    "init_params = [3.1415, 1.5708]\n",
    "\n",
    "cost = objective_function(init_params)\n",
    "\n",
    "minimize(objective_function, init_params, method=\"Powell\", tol=1e-6)"
   ]
  },
  {
   "cell_type": "markdown",
   "metadata": {},
   "source": [
    "we find that the angles $\\theta = 3.13851035$ and $\\phi = 4.1883809$ give the minimal cost for the circuit."
   ]
  },
  {
   "cell_type": "markdown",
   "metadata": {},
   "source": [
    "## References"
   ]
  },
  {
   "cell_type": "markdown",
   "metadata": {},
   "source": [
    "<ol>\n",
    "    <li><a href=\"https://qiskit.org/documentation/tutorials/circuits/3_summary_of_quantum_operations.html\">Qiskit tutorials: Summary of Quantum Operations</a></li>\n",
    "    <li><a href=\"https://en.wikipedia.org/wiki/Bell_state\">Wikipedia: Bell state</a></li>\n",
    "    <li><a href=\"https://en.wikipedia.org/wiki/Greenberger%E2%80%93Horne%E2%80%93Zeilinger_state\">Wikipedia: Greenberger–Horne–Zeilinger state\n",
    "</a></li>\n",
    "    <li>Lee, Soonchil & Lee, Seong-Joo & Kim, Taegon & Lee, Jae-Seung & Biamonte, Jacob & Perkowski, Marek. (2006). The cost of quantum gate primitives. Journal of Multiple-Valued Logic and Soft Computing. 12. 561-573. </li>\n",
    "    <li><a href=\"https://qiskit.org/textbook/ch-algorithms/grover.html\">Qiskit Textbook: Grover's Algorithm\n",
    "</a></li>\n",
    "    <li><a href=\"https://en.wikipedia.org/wiki/Expectation_value_(quantum_mechanics)#:~:text=In%20quantum%20mechanics%2C%20the%20expectation,(measurement)%20of%20an%20experiment.\">Expectation value (quantum mechanics)\n",
    "</a></li>\n",
    "</ol>"
   ]
  },
  {
   "cell_type": "code",
   "execution_count": null,
   "metadata": {},
   "outputs": [],
   "source": []
  }
 ],
 "metadata": {
  "kernelspec": {
   "display_name": "Python 3",
   "language": "python",
   "name": "python3"
  },
  "language_info": {
   "codemirror_mode": {
    "name": "ipython",
    "version": 3
   },
   "file_extension": ".py",
   "mimetype": "text/x-python",
   "name": "python",
   "nbconvert_exporter": "python",
   "pygments_lexer": "ipython3",
   "version": "3.8.3"
  }
 },
 "nbformat": 4,
 "nbformat_minor": 4
}
